{
 "cells": [
  {
   "cell_type": "markdown",
   "metadata": {},
   "source": [
    "Supervised preprocessing and visualization"
   ]
  },
  {
   "cell_type": "code",
   "execution_count": 82,
   "metadata": {},
   "outputs": [],
   "source": [
    "# Importiere Bibliotheken\n",
    "import pandas as pd\n",
    "import numpy as np\n",
    "import seaborn as sns\n",
    "import matplotlib.pyplot as plt\n",
    "from sklearn.feature_selection import SelectKBest, chi2\n",
    "from sklearn.preprocessing import LabelEncoder\n",
    "from sklearn.impute import SimpleImputer\n",
    "from sklearn.feature_selection import mutual_info_classif"
   ]
  },
  {
   "cell_type": "code",
   "execution_count": 58,
   "metadata": {},
   "outputs": [],
   "source": [
    "# Datensatz laden\n",
    "data = pd.read_csv(\"C:\\\\Users\\\\sonja\\\\Downloads\\\\diabetes.csv\")  \n"
   ]
  },
  {
   "cell_type": "code",
   "execution_count": 75,
   "metadata": {},
   "outputs": [],
   "source": [
    "# Definition einer IQR-basierten Ausreißer-Erkennungsfunktion, die nur numerische Spalten berücksichtigt\n",
    "def iqr_outlier_detection(df):\n",
    "    # nur numerische spalten\n",
    "    df_numeric = df.select_dtypes(include=[np.number])\n",
    "    \n",
    "    # Berechne Q1 (25 %) und Q3 (75%) für jede spalte\n",
    "    Q1 = df_numeric.quantile(0.25)\n",
    "    Q3 = df_numeric.quantile(0.75)\n",
    "    IQR = Q3 - Q1\n",
    "\n",
    "    \n",
    "    # Definiere Outliers\n",
    "    outliers = (df_numeric < (Q1 - 1.5 * IQR)) | (df_numeric > (Q3 + 1.5 * IQR))\n",
    "    \n",
    "    # Ersetze outliers mit NaN\n",
    "    df_numeric[outliers] = np.nan\n",
    "    return df"
   ]
  },
  {
   "cell_type": "code",
   "execution_count": 77,
   "metadata": {},
   "outputs": [
    {
     "name": "stdout",
     "output_type": "stream",
     "text": [
      "     preg  plas  pres  skin  insu  mass   pedi  age            class\n",
      "0       6   148    72    35     0  33.6  0.627   50  tested_positive\n",
      "1       1    85    66    29     0  26.6  0.351   31  tested_negative\n",
      "2       8   183    64     0     0  23.3  0.672   32  tested_positive\n",
      "3       1    89    66    23    94  28.1  0.167   21  tested_negative\n",
      "4       0   137    40    35   168  43.1  2.288   33  tested_positive\n",
      "..    ...   ...   ...   ...   ...   ...    ...  ...              ...\n",
      "763    10   101    76    48   180  32.9  0.171   63  tested_negative\n",
      "764     2   122    70    27     0  36.8  0.340   27  tested_negative\n",
      "765     5   121    72    23   112  26.2  0.245   30  tested_negative\n",
      "766     1   126    60     0     0  30.1  0.349   47  tested_positive\n",
      "767     1    93    70    31     0  30.4  0.315   23  tested_negative\n",
      "\n",
      "[768 rows x 9 columns]\n"
     ]
    }
   ],
   "source": [
    "# Ausreißererkennung anwenden und durch NaN ersetzen\n",
    "data_no_outliers = iqr_outlier_detection(data.copy())\n",
    "print(data_no_outliers)"
   ]
  },
  {
   "cell_type": "code",
   "execution_count": 79,
   "metadata": {},
   "outputs": [
    {
     "name": "stdout",
     "output_type": "stream",
     "text": [
      "     preg  plas  pres  skin  insu  mass   pedi  age            class\n",
      "0       6   148    72    35     0  33.6  0.627   50  tested_positive\n",
      "1       1    85    66    29     0  26.6  0.351   31  tested_negative\n",
      "2       8   183    64     0     0  23.3  0.672   32  tested_positive\n",
      "3       1    89    66    23    94  28.1  0.167   21  tested_negative\n",
      "4       0   137    40    35   168  43.1  2.288   33  tested_positive\n",
      "..    ...   ...   ...   ...   ...   ...    ...  ...              ...\n",
      "763    10   101    76    48   180  32.9  0.171   63  tested_negative\n",
      "764     2   122    70    27     0  36.8  0.340   27  tested_negative\n",
      "765     5   121    72    23   112  26.2  0.245   30  tested_negative\n",
      "766     1   126    60     0     0  30.1  0.349   47  tested_positive\n",
      "767     1    93    70    31     0  30.4  0.315   23  tested_negative\n",
      "\n",
      "[768 rows x 9 columns]\n"
     ]
    }
   ],
   "source": [
    "\n",
    "# verwerfe Zeilen mit NaN werten\n",
    "data_no_outliers_clean = data_no_outliers.dropna()\n",
    "print(data_no_outliers_clean)\n"
   ]
  },
  {
   "cell_type": "code",
   "execution_count": 84,
   "metadata": {},
   "outputs": [
    {
     "name": "stdout",
     "output_type": "stream",
     "text": [
      "     preg  plas  pres  skin  insu  mass   pedi  age\n",
      "0       6   148    72    35     0  33.6  0.627   50\n",
      "1       1    85    66    29     0  26.6  0.351   31\n",
      "2       8   183    64     0     0  23.3  0.672   32\n",
      "3       1    89    66    23    94  28.1  0.167   21\n",
      "4       0   137    40    35   168  43.1  2.288   33\n",
      "..    ...   ...   ...   ...   ...   ...    ...  ...\n",
      "763    10   101    76    48   180  32.9  0.171   63\n",
      "764     2   122    70    27     0  36.8  0.340   27\n",
      "765     5   121    72    23   112  26.2  0.245   30\n",
      "766     1   126    60     0     0  30.1  0.349   47\n",
      "767     1    93    70    31     0  30.4  0.315   23\n",
      "\n",
      "[768 rows x 8 columns]\n",
      "0      tested_positive\n",
      "1      tested_negative\n",
      "2      tested_positive\n",
      "3      tested_negative\n",
      "4      tested_positive\n",
      "            ...       \n",
      "763    tested_negative\n",
      "764    tested_negative\n",
      "765    tested_negative\n",
      "766    tested_positive\n",
      "767    tested_negative\n",
      "Name: class, Length: 768, dtype: object\n"
     ]
    }
   ],
   "source": [
    "# Merkmale einstufen\n",
    "# die Zielvariable ist „class“ und die Merkmale sind alle anderen Spalten\n",
    "X = data_no_outliers_clean.drop(columns=['class'])\n",
    "y = data_no_outliers_clean['class']\n",
    "\n",
    "print(X)\n",
    "print(y)"
   ]
  },
  {
   "cell_type": "code",
   "execution_count": 87,
   "metadata": {},
   "outputs": [
    {
     "name": "stdout",
     "output_type": "stream",
     "text": [
      "[0.00700347 0.11690503 0.01772415 0.01654708 0.05115687 0.08356533\n",
      " 0.01352606 0.05223826]\n"
     ]
    }
   ],
   "source": [
    "\n",
    "# Berechnung des Informationsgewinns \n",
    "ig_scores = mutual_info_classif(X, y)\n",
    "print(ig_scores)"
   ]
  },
  {
   "cell_type": "code",
   "execution_count": 89,
   "metadata": {},
   "outputs": [
    {
     "name": "stdout",
     "output_type": "stream",
     "text": [
      "  Feature  Information Gain\n",
      "0    preg          0.007003\n",
      "1    plas          0.116905\n",
      "2    pres          0.017724\n",
      "3    skin          0.016547\n",
      "4    insu          0.051157\n",
      "5    mass          0.083565\n",
      "6    pedi          0.013526\n",
      "7     age          0.052238\n"
     ]
    }
   ],
   "source": [
    "\n",
    "# Erstellen Sie einen DataFrame mit den Namen der Merkmale und den entsprechenden Werten für den Informationsgewinn\n",
    "ig_df = pd.DataFrame({\n",
    "    'Feature': X.columns,\n",
    "    'Information Gain': ig_scores\n",
    "})\n",
    "\n",
    "print(ig_df)\n"
   ]
  },
  {
   "cell_type": "code",
   "execution_count": 90,
   "metadata": {},
   "outputs": [
    {
     "name": "stdout",
     "output_type": "stream",
     "text": [
      "  Feature  Information Gain\n",
      "1    plas          0.116905\n",
      "5    mass          0.083565\n",
      "7     age          0.052238\n",
      "4    insu          0.051157\n",
      "2    pres          0.017724\n",
      "3    skin          0.016547\n",
      "6    pedi          0.013526\n",
      "0    preg          0.007003\n"
     ]
    }
   ],
   "source": [
    "# Sortieren Sie die Merkmale nach ihrer Bewertung des Informationsgewinns\n",
    "ig_df_sorted = ig_df.sort_values(by='Information Gain', ascending=False)\n",
    "print(ig_df_sorted)"
   ]
  },
  {
   "cell_type": "code",
   "execution_count": 94,
   "metadata": {},
   "outputs": [
    {
     "name": "stdout",
     "output_type": "stream",
     "text": [
      "highest_ig_feature: plas\n",
      "lowest_ig_feature: preg\n"
     ]
    }
   ],
   "source": [
    "# Erstellen Sie Boxplots und Verteilungsdiagramme für ein diskriminierendes und ein nicht-diskriminierendes Merkmal.\n",
    "# Ermitteln Sie die Merkmale mit der höchsten und niedrigsten IG-Bewertung.\n",
    "highest_ig_feature = ig_df_sorted.iloc[0]['Feature']\n",
    "print(\"highest_ig_feature: \" + highest_ig_feature)\n",
    "lowest_ig_feature = ig_df_sorted.iloc[-1]['Feature']\n",
    "print(\"lowest_ig_feature: \" + lowest_ig_feature)"
   ]
  },
  {
   "cell_type": "code",
   "execution_count": 98,
   "metadata": {},
   "outputs": [
    {
     "name": "stdout",
     "output_type": "stream",
     "text": [
      "0      148\n",
      "1       85\n",
      "2      183\n",
      "3       89\n",
      "4      137\n",
      "      ... \n",
      "763    101\n",
      "764    122\n",
      "765    121\n",
      "766    126\n",
      "767     93\n",
      "Name: plas, Length: 768, dtype: int64\n",
      "0       6\n",
      "1       1\n",
      "2       8\n",
      "3       1\n",
      "4       0\n",
      "       ..\n",
      "763    10\n",
      "764     2\n",
      "765     5\n",
      "766     1\n",
      "767     1\n",
      "Name: preg, Length: 768, dtype: int64\n"
     ]
    }
   ],
   "source": [
    "# Extrahieren von Daten für die diskriminierenden und nicht-diskriminierenden Merkmale\n",
    "discriminating_data = data_no_outliers_clean[highest_ig_feature]\n",
    "print(discriminating_data)\n",
    "non_discriminating_data = data_no_outliers_clean[lowest_ig_feature]\n",
    "print(non_discriminating_data)\n",
    "\n"
   ]
  },
  {
   "cell_type": "code",
   "execution_count": null,
   "metadata": {},
   "outputs": [
    {
     "data": {
      "image/png": "[encoded data removed]",
      "text/plain": [
       "<Figure size 1800x800 with 2 Axes>"
      ]
     },
     "metadata": {},
     "output_type": "display_data"
    }
   ],
   "source": [
    "# plot \n",
    "plt.figure(figsize=(18, 8))\n",
    "\n",
    "# Boxplot und Distribution Plot für das discriminating Feature\n",
    "plt.subplot(1, 2, 1)\n",
    "sns.boxplot(data=discriminating_data)\n",
    "sns.kdeplot(discriminating_data, color='blue', fill=True)  \n",
    "plt.title(f\"Discriminating Feature: {highest_ig_feature}\")\n",
    "plt.xlabel(highest_ig_feature)\n",
    "\n",
    "\n",
    "# Boxplot und Distribution Plot für das non-discriminating Feature\n",
    "plt.subplot(1, 2, 2)\n",
    "sns.boxplot(data=non_discriminating_data)\n",
    "sns.kdeplot(non_discriminating_data, color='red', fill=True)  \n",
    "plt.title(f\"Non-Discriminating Feature: {lowest_ig_feature}\")\n",
    "plt.xlabel(lowest_ig_feature)\n",
    "\n",
    "\n",
    "\n",
    "# gebe die Plots aus\n",
    "\n",
    "plt.tight_layout()\n",
    "plt.show()"
   ]
  },
  {
   "cell_type": "code",
   "execution_count": null,
   "metadata": {},
   "outputs": [
    {
     "data": {
      "image/png": "[encoded data removed]",
      "text/plain": [
       "<Figure size 1400x600 with 2 Axes>"
      ]
     },
     "metadata": {},
     "output_type": "display_data"
    }
   ],
   "source": []
  }
 ],
 "metadata": {
  "kernelspec": {
   "display_name": "venv",
   "language": "python",
   "name": "python3"
  },
  "language_info": {
   "codemirror_mode": {
    "name": "ipython",
    "version": 3
   },
   "file_extension": ".py",
   "mimetype": "text/x-python",
   "name": "python",
   "nbconvert_exporter": "python",
   "pygments_lexer": "ipython3",
   "version": "3.8.6"
  }
 },
 "nbformat": 4,
 "nbformat_minor": 2
}
