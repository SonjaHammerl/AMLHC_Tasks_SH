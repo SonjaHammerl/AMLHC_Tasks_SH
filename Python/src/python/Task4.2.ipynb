{
 "cells": [
  {
   "cell_type": "markdown",
   "id": "a68d65a3",
   "metadata": {},
   "source": [
    "Task 4.2 Supervised Learning - Classification "
   ]
  },
  {
   "cell_type": "code",
   "execution_count": null,
   "id": "da36fc0a",
   "metadata": {},
   "outputs": [],
   "source": [
    "# Importiere notwendige Bibliotheken\n",
    "import pandas as pd\n",
    "import numpy as np\n",
    "import matplotlib.pyplot as plt\n",
    "from sklearn.linear_model import LogisticRegression\n",
    "from sklearn.model_selection import train_test_split\n",
    "from sklearn.metrics import accuracy_score\n",
    "from scipy.io import arff"
   ]
  },
  {
   "cell_type": "code",
   "execution_count": null,
   "id": "7b08d1cf",
   "metadata": {},
   "outputs": [],
   "source": [
    "# 1. Lade das Dataset (diabetes.arff)\n",
    "# Konvertiere ARFF-Datei zu Pandas DataFrame\n",
    "data, meta = arff.loadarff(\"C:\\\\Users\\\\sonja\\\\Downloads\\\\diabetes.arff\")\n",
    "df = pd.DataFrame(data)\n",
    "\n",
    "# Falls die Spaltennamen nicht korrekt sind, setzen wir die korrekten Spaltennamen\n",
    "df.columns = df.columns.str.decode('utf-8')\n"
   ]
  },
  {
   "cell_type": "code",
   "execution_count": null,
   "id": "d7630fa6",
   "metadata": {},
   "outputs": [],
   "source": [
    "# 2. Trainiere ein Generalized Linear Model (Logistic Regression)\n",
    "# Angenommen, 'class' ist das Ziel (Label), und der Rest der Variablen sind Features\n",
    "X = df.drop('class', axis=1)\n",
    "y = df['class']\n",
    "\n",
    "# Konvertiere in numerische Werte falls nötig\n",
    "X = X.apply(pd.to_numeric)\n",
    "y = y.apply(pd.to_numeric)\n",
    "\n",
    "# Erstelle das Logistic Regression Modell\n",
    "model = LogisticRegression(max_iter=1000)\n"
   ]
  },
  {
   "cell_type": "code",
   "execution_count": null,
   "id": "2a6ad2d7",
   "metadata": {},
   "outputs": [],
   "source": [
    "# 3. Trainiere das Modell\n",
    "model.fit(X, y)"
   ]
  },
  {
   "cell_type": "code",
   "execution_count": null,
   "id": "68f443e3",
   "metadata": {},
   "outputs": [],
   "source": [
    "# 4. Modellbewertung\n",
    "# Extrahiere Koeffizienten und Schnittpunkt\n",
    "print(\"Koeffizienten:\", model.coef_)\n",
    "print(\"Schnittpunkt:\", model.intercept_)\n",
    "\n",
    "# Vorhersage auf den Trainingsdaten\n",
    "y_pred = model.predict(X)\n",
    "\n",
    "# Berechne den Accuracy-Score\n",
    "accuracy = accuracy_score(y, y_pred)\n",
    "print(f\"Accuracy Score: {accuracy}\")\n",
    "\n",
    "# Visualisiere die Residuen (Differenz zwischen tatsächlichen und vorhergesagten Werten)\n",
    "residuals = y - y_pred\n",
    "plt.plot(residuals)\n",
    "plt.title(\"Residuen der Logistischen Regression\")\n",
    "plt.xlabel(\"Datenpunkte\")\n",
    "plt.ylabel(\"Residuen\")\n",
    "plt.show()"
   ]
  },
  {
   "cell_type": "code",
   "execution_count": null,
   "id": "eef2a8e0",
   "metadata": {},
   "outputs": [],
   "source": [
    "\n",
    "# 5. Trainiere das Modell mit Cross-Validation\n",
    "# Teile die Daten in Trainings- und Testdaten\n",
    "X_train, X_test, y_train, y_test = train_test_split(X, y, test_size=0.2, random_state=42)\n",
    "\n",
    "# Trainiere das Modell auf den Trainingsdaten\n",
    "model.fit(X_train, y_train)\n",
    "\n",
    "# Teste das Modell auf den Testdaten\n",
    "y_test_pred = model.predict(X_test)\n",
    "\n",
    "# Berechne den Accuracy-Score für Testdaten\n",
    "test_accuracy = accuracy_score(y_test, y_test_pred)\n",
    "print(f\"Test Accuracy Score: {test_accuracy}\")"
   ]
  },
  {
   "cell_type": "markdown",
   "id": "d3ea6da1",
   "metadata": {},
   "source": [
    "# 6. Git-Update\n",
    "# Diese Schritte müssen im Terminal ausgeführt werden:\n",
    "# git add .\n",
    "# git commit -m \"Logistic Regression Model\"\n",
    "# git push"
   ]
  }
 ],
 "metadata": {
  "kernelspec": {
   "display_name": "venv",
   "language": "python",
   "name": "python3"
  },
  "language_info": {
   "name": "python",
   "version": "3.8.6"
  }
 },
 "nbformat": 4,
 "nbformat_minor": 5
}
