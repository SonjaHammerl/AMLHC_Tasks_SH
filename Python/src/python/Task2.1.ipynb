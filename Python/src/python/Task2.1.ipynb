{
 "cells": [
  {
   "cell_type": "markdown",
   "metadata": {},
   "source": [
    "Unsupervised preprocessing and visualization"
   ]
  },
  {
   "cell_type": "code",
   "execution_count": 4,
   "metadata": {},
   "outputs": [],
   "source": [
    "#benötigte Bibliotheken:\n",
    "import pandas as pd\n",
    "import numpy as np\n",
    "import matplotlib.pyplot as plt\n",
    "import seaborn as sns\n",
    "from sklearn.decomposition import PCA\n",
    "from sklearn.preprocessing import StandardScaler\n"
   ]
  },
  {
   "cell_type": "code",
   "execution_count": 12,
   "metadata": {},
   "outputs": [],
   "source": [
    "#lade den Datensatz\n",
    "dt = pd.read_csv(\"C:\\\\Users\\\\sonja\\\\Downloads\\\\food.csv\")  \n"
   ]
  },
  {
   "cell_type": "code",
   "execution_count": 13,
   "metadata": {},
   "outputs": [
    {
     "name": "stdout",
     "output_type": "stream",
     "text": [
      "Dimensionen des Datensatzes: (25, 10)\n",
      "Fehlende Werte: Unnamed: 0    0\n",
      "RedMeat       0\n",
      "WhiteMeat     0\n",
      "Eggs          0\n",
      "Milk          0\n",
      "Fish          0\n",
      "Cereals       0\n",
      "Starch        0\n",
      "Nuts          0\n",
      "Fr.Veg        0\n",
      "dtype: int64\n"
     ]
    }
   ],
   "source": [
    "#Überblick über die Dimensionen und die Anzahl der fehlenden Werte\n",
    "print(\"Dimensionen des Datensatzes:\", dt.shape)\n",
    "print(\"Fehlende Werte:\", dt.isnull().sum())"
   ]
  },
  {
   "cell_type": "code",
   "execution_count": 14,
   "metadata": {},
   "outputs": [],
   "source": [
    "# Z-Transformation\n",
    "scaler = StandardScaler()\n",
    "dt_scaled = scaler.fit_transform(dt.select_dtypes(include=[np.number]))  # Nur numerische Spalten werden skaliert"
   ]
  },
  {
   "cell_type": "code",
   "execution_count": 16,
   "metadata": {},
   "outputs": [],
   "source": [
    "\n",
    "#Hauptkomponentenanalyse (PCA)\n",
    "pca = PCA(n_components=2)  # Wir wollen nur die ersten zwei Hauptkomponenten\n",
    "principal_components = pca.fit_transform(dt_scaled)\n"
   ]
  },
  {
   "cell_type": "code",
   "execution_count": 17,
   "metadata": {},
   "outputs": [],
   "source": [
    "#Erstelle Score-Plots\n",
    "\n",
    "pc_dt = pd.DataFrame(data=principal_components, columns=['PC1', 'PC2'])\n",
    "# Erstellen eines DataFrames mit den Hauptkomponenten"
   ]
  },
  {
   "cell_type": "code",
   "execution_count": 18,
   "metadata": {},
   "outputs": [
    {
     "name": "stderr",
     "output_type": "stream",
     "text": [
      "C:\\Users\\sonja\\AppData\\Local\\Temp\\ipykernel_26216\\3965653413.py:3: UserWarning: Ignoring `palette` because no `hue` variable has been assigned.\n",
      "  sns.scatterplot(x='PC1', y='PC2', data=pc_dt, palette='viridis')\n"
     ]
    },
    {
     "data": {
      "image/png": "[encoded data removed]",
      "text/plain": [
       "<Figure size 1000x600 with 1 Axes>"
      ]
     },
     "metadata": {},
     "output_type": "display_data"
    }
   ],
   "source": [
    "#Visualisierung des Score-Plots\n",
    "plt.figure(figsize=(10, 6))\n",
    "sns.scatterplot(x='PC1', y='PC2', data=pc_dt, palette='viridis')\n",
    "plt.title('Score Plot von PC1 und PC2')\n",
    "plt.xlabel('PC1')\n",
    "plt.ylabel('PC2')\n",
    "plt.show()"
   ]
  },
  {
   "cell_type": "markdown",
   "metadata": {},
   "source": [
    "#Git-Repository aktualisieren: \n",
    "#In der Kommandozeile ausführen:\n",
    "#git add .\n",
    "#git commit -m \"PCA und Score-Plot\"\n",
    "#git push"
   ]
  }
 ],
 "metadata": {
  "kernelspec": {
   "display_name": "venv",
   "language": "python",
   "name": "python3"
  },
  "language_info": {
   "codemirror_mode": {
    "name": "ipython",
    "version": 3
   },
   "file_extension": ".py",
   "mimetype": "text/x-python",
   "name": "python",
   "nbconvert_exporter": "python",
   "pygments_lexer": "ipython3",
   "version": "3.8.6rc1"
  }
 },
 "nbformat": 4,
 "nbformat_minor": 2
}
