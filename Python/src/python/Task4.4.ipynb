{
 "cells": [
  {
   "cell_type": "markdown",
   "id": "38b536a1",
   "metadata": {},
   "source": [
    "Task 4.4 Supervised Learning - Classification and hyperparameter tuning"
   ]
  },
  {
   "cell_type": "code",
   "execution_count": null,
   "id": "5bdba32e",
   "metadata": {},
   "outputs": [],
   "source": [
    "import pandas as pd\n",
    "from sklearn.model_selection import train_test_split, GridSearchCV\n",
    "from sklearn.ensemble import RandomForestClassifier\n",
    "from sklearn.preprocessing import StandardScaler\n",
    "from sklearn.pipeline import Pipeline\n",
    "from sklearn.metrics import classification_report, confusion_matrix, accuracy_score"
   ]
  },
  {
   "cell_type": "code",
   "execution_count": null,
   "id": "ee1ec9e9",
   "metadata": {},
   "outputs": [],
   "source": [
    "#1. Lade den Datensatz\n",
    "df = pd.read_csv(\"C:\\\\Users\\\\sonja\\\\Downloads\\\\cox2.csv\", index_col=0)"
   ]
  },
  {
   "cell_type": "code",
   "execution_count": null,
   "id": "6b908da3",
   "metadata": {},
   "outputs": [
    {
     "name": "stdout",
     "output_type": "stream",
     "text": [
      "<class 'pandas.core.frame.DataFrame'>\n",
      "Index: 462 entries, 1 to 0\n",
      "Columns: 256 entries, QikProp_.amine to cox2Class\n",
      "dtypes: float64(212), int64(43), object(1)\n",
      "memory usage: 927.6+ KB\n",
      "None\n",
      "                QikProp_.amine  QikProp_.acid  QikProp_.rotor  \\\n",
      "QikProp_.stars                                                  \n",
      "1                            0              0               1   \n",
      "0                            0              0               2   \n",
      "0                            0              0               3   \n",
      "1                            0              0               2   \n",
      "1                            0              0               2   \n",
      "\n",
      "                QikProp_.rctvFG  QikProp_CNS  QikProp_MW  QikProp_dipole  \\\n",
      "QikProp_.stars                                                             \n",
      "1                             0            0     358.882           7.645   \n",
      "0                             0           -1     359.870           7.959   \n",
      "0                             0           -1     355.451           7.500   \n",
      "1                             0           -1     393.423           9.342   \n",
      "1                             0           -1     394.315           9.409   \n",
      "\n",
      "                QikProp_SASA  QikProp_FOSA  QikProp_FISA  ...  moe2D_vsa_acc  \\\n",
      "QikProp_.stars                                            ...                  \n",
      "1                    635.022       273.363        75.583  ...          32.02   \n",
      "0                    622.548       189.930       136.949  ...          32.02   \n",
      "0                    610.972       268.526       136.952  ...          34.52   \n",
      "1                    651.852       190.772       136.955  ...          32.02   \n",
      "1                    637.688       189.933       136.952  ...          32.02   \n",
      "\n",
      "                moe2D_vsa_don  moe2D_vsa_hyd  moe2D_vsa_other  moe2D_vsa_pol  \\\n",
      "QikProp_.stars                                                                 \n",
      "1                        0.00          268.2            6.513            0.0   \n",
      "0                       20.14          236.8           10.110            0.0   \n",
      "0                       20.14          238.4           18.560            0.0   \n",
      "1                       20.14          249.7           10.110            0.0   \n",
      "1                       20.14          255.1           10.110            0.0   \n",
      "\n",
      "                moe2D_weinerPath  moe2D_weinerPol  moe2D_zagreb   IC50  \\\n",
      "QikProp_.stars                                                           \n",
      "1                           1340               37           138  0.001   \n",
      "0                           1340               37           138  0.001   \n",
      "0                           1524               39           142  0.001   \n",
      "1                           1898               43           156  0.001   \n",
      "1                           1486               40           144  0.001   \n",
      "\n",
      "                cox2Class  \n",
      "QikProp_.stars             \n",
      "1                Inactive  \n",
      "0                Inactive  \n",
      "0                Inactive  \n",
      "1                Inactive  \n",
      "1                Inactive  \n",
      "\n",
      "[5 rows x 256 columns]\n"
     ]
    }
   ],
   "source": [
    "# übersicht\n",
    "print(df.info())\n",
    "print(df.head())"
   ]
  },
  {
   "cell_type": "code",
   "execution_count": null,
   "id": "9d4db869",
   "metadata": {},
   "outputs": [
    {
     "name": "stdout",
     "output_type": "stream",
     "text": [
      "Zielklassen: ['Inactive' 'Active']\n"
     ]
    }
   ],
   "source": [
    "# 2. Zielspalte: cox2Class (ist vom Typ \"object\")\n",
    "print(\"Zielklassen:\", df[\"cox2Class\"].unique())  # z. B. ['Inactive', 'Active']"
   ]
  },
  {
   "cell_type": "code",
   "execution_count": null,
   "id": "ea8aa66c",
   "metadata": {},
   "outputs": [],
   "source": [
    "# 3. Features und Target definieren\n",
    "X = df.drop(columns=\"cox2Class\")\n",
    "y = df[\"cox2Class\"]\n"
   ]
  },
  {
   "cell_type": "code",
   "execution_count": 7,
   "id": "fafdac79",
   "metadata": {},
   "outputs": [],
   "source": [
    "# 4. Daten splitten\n",
    "X_train, X_test, y_train, y_test = train_test_split(\n",
    "    X, y, test_size=0.25, random_state=42, stratify=y\n",
    ")"
   ]
  },
  {
   "cell_type": "code",
   "execution_count": null,
   "id": "1c427dc7",
   "metadata": {},
   "outputs": [],
   "source": [
    "# 5. Pipeline mit Skalierung und Klassifikator\n",
    "pipeline = Pipeline([\n",
    "    (\"scaler\", StandardScaler()),\n",
    "    (\"clf\", RandomForestClassifier(random_state=42))\n",
    "])\n"
   ]
  },
  {
   "cell_type": "code",
   "execution_count": 9,
   "id": "b1664cd2",
   "metadata": {},
   "outputs": [],
   "source": [
    "# 6. Hyperparameter-Raster\n",
    "param_grid = {\n",
    "    \"clf__n_estimators\": [100, 200],\n",
    "    \"clf__max_depth\": [None, 10, 20],\n",
    "    \"clf__max_features\": [\"sqrt\", \"log2\"]\n",
    "}\n"
   ]
  },
  {
   "cell_type": "code",
   "execution_count": 11,
   "id": "0ef1535d",
   "metadata": {},
   "outputs": [
    {
     "data": {
      "text/html": [
       "<style>#sk-container-id-1 {color: black;}#sk-container-id-1 pre{padding: 0;}#sk-container-id-1 div.sk-toggleable {background-color: white;}#sk-container-id-1 label.sk-toggleable__label {cursor: pointer;display: block;width: 100%;margin-bottom: 0;padding: 0.3em;box-sizing: border-box;text-align: center;}#sk-container-id-1 label.sk-toggleable__label-arrow:before {content: \"▸\";float: left;margin-right: 0.25em;color: #696969;}#sk-container-id-1 label.sk-toggleable__label-arrow:hover:before {color: black;}#sk-container-id-1 div.sk-estimator:hover label.sk-toggleable__label-arrow:before {color: black;}#sk-container-id-1 div.sk-toggleable__content {max-height: 0;max-width: 0;overflow: hidden;text-align: left;background-color: #f0f8ff;}#sk-container-id-1 div.sk-toggleable__content pre {margin: 0.2em;color: black;border-radius: 0.25em;background-color: #f0f8ff;}#sk-container-id-1 input.sk-toggleable__control:checked~div.sk-toggleable__content {max-height: 200px;max-width: 100%;overflow: auto;}#sk-container-id-1 input.sk-toggleable__control:checked~label.sk-toggleable__label-arrow:before {content: \"▾\";}#sk-container-id-1 div.sk-estimator input.sk-toggleable__control:checked~label.sk-toggleable__label {background-color: #d4ebff;}#sk-container-id-1 div.sk-label input.sk-toggleable__control:checked~label.sk-toggleable__label {background-color: #d4ebff;}#sk-container-id-1 input.sk-hidden--visually {border: 0;clip: rect(1px 1px 1px 1px);clip: rect(1px, 1px, 1px, 1px);height: 1px;margin: -1px;overflow: hidden;padding: 0;position: absolute;width: 1px;}#sk-container-id-1 div.sk-estimator {font-family: monospace;background-color: #f0f8ff;border: 1px dotted black;border-radius: 0.25em;box-sizing: border-box;margin-bottom: 0.5em;}#sk-container-id-1 div.sk-estimator:hover {background-color: #d4ebff;}#sk-container-id-1 div.sk-parallel-item::after {content: \"\";width: 100%;border-bottom: 1px solid gray;flex-grow: 1;}#sk-container-id-1 div.sk-label:hover label.sk-toggleable__label {background-color: #d4ebff;}#sk-container-id-1 div.sk-serial::before {content: \"\";position: absolute;border-left: 1px solid gray;box-sizing: border-box;top: 0;bottom: 0;left: 50%;z-index: 0;}#sk-container-id-1 div.sk-serial {display: flex;flex-direction: column;align-items: center;background-color: white;padding-right: 0.2em;padding-left: 0.2em;position: relative;}#sk-container-id-1 div.sk-item {position: relative;z-index: 1;}#sk-container-id-1 div.sk-parallel {display: flex;align-items: stretch;justify-content: center;background-color: white;position: relative;}#sk-container-id-1 div.sk-item::before, #sk-container-id-1 div.sk-parallel-item::before {content: \"\";position: absolute;border-left: 1px solid gray;box-sizing: border-box;top: 0;bottom: 0;left: 50%;z-index: -1;}#sk-container-id-1 div.sk-parallel-item {display: flex;flex-direction: column;z-index: 1;position: relative;background-color: white;}#sk-container-id-1 div.sk-parallel-item:first-child::after {align-self: flex-end;width: 50%;}#sk-container-id-1 div.sk-parallel-item:last-child::after {align-self: flex-start;width: 50%;}#sk-container-id-1 div.sk-parallel-item:only-child::after {width: 0;}#sk-container-id-1 div.sk-dashed-wrapped {border: 1px dashed gray;margin: 0 0.4em 0.5em 0.4em;box-sizing: border-box;padding-bottom: 0.4em;background-color: white;}#sk-container-id-1 div.sk-label label {font-family: monospace;font-weight: bold;display: inline-block;line-height: 1.2em;}#sk-container-id-1 div.sk-label-container {text-align: center;}#sk-container-id-1 div.sk-container {/* jupyter's `normalize.less` sets `[hidden] { display: none; }` but bootstrap.min.css set `[hidden] { display: none !important; }` so we also need the `!important` here to be able to override the default hidden behavior on the sphinx rendered scikit-learn.org. See: https://github.com/scikit-learn/scikit-learn/issues/21755 */display: inline-block !important;position: relative;}#sk-container-id-1 div.sk-text-repr-fallback {display: none;}</style><div id=\"sk-container-id-1\" class=\"sk-top-container\"><div class=\"sk-text-repr-fallback\"><pre>GridSearchCV(cv=10,\n",
       "             estimator=Pipeline(steps=[(&#x27;scaler&#x27;, StandardScaler()),\n",
       "                                       (&#x27;clf&#x27;,\n",
       "                                        RandomForestClassifier(random_state=42))]),\n",
       "             n_jobs=-1,\n",
       "             param_grid={&#x27;clf__max_depth&#x27;: [None, 10, 20],\n",
       "                         &#x27;clf__max_features&#x27;: [&#x27;sqrt&#x27;, &#x27;log2&#x27;],\n",
       "                         &#x27;clf__n_estimators&#x27;: [100, 200]},\n",
       "             scoring=&#x27;accuracy&#x27;)</pre><b>In a Jupyter environment, please rerun this cell to show the HTML representation or trust the notebook. <br />On GitHub, the HTML representation is unable to render, please try loading this page with nbviewer.org.</b></div><div class=\"sk-container\" hidden><div class=\"sk-item sk-dashed-wrapped\"><div class=\"sk-label-container\"><div class=\"sk-label sk-toggleable\"><input class=\"sk-toggleable__control sk-hidden--visually\" id=\"sk-estimator-id-1\" type=\"checkbox\" ><label for=\"sk-estimator-id-1\" class=\"sk-toggleable__label sk-toggleable__label-arrow\">GridSearchCV</label><div class=\"sk-toggleable__content\"><pre>GridSearchCV(cv=10,\n",
       "             estimator=Pipeline(steps=[(&#x27;scaler&#x27;, StandardScaler()),\n",
       "                                       (&#x27;clf&#x27;,\n",
       "                                        RandomForestClassifier(random_state=42))]),\n",
       "             n_jobs=-1,\n",
       "             param_grid={&#x27;clf__max_depth&#x27;: [None, 10, 20],\n",
       "                         &#x27;clf__max_features&#x27;: [&#x27;sqrt&#x27;, &#x27;log2&#x27;],\n",
       "                         &#x27;clf__n_estimators&#x27;: [100, 200]},\n",
       "             scoring=&#x27;accuracy&#x27;)</pre></div></div></div><div class=\"sk-parallel\"><div class=\"sk-parallel-item\"><div class=\"sk-item\"><div class=\"sk-label-container\"><div class=\"sk-label sk-toggleable\"><input class=\"sk-toggleable__control sk-hidden--visually\" id=\"sk-estimator-id-2\" type=\"checkbox\" ><label for=\"sk-estimator-id-2\" class=\"sk-toggleable__label sk-toggleable__label-arrow\">estimator: Pipeline</label><div class=\"sk-toggleable__content\"><pre>Pipeline(steps=[(&#x27;scaler&#x27;, StandardScaler()),\n",
       "                (&#x27;clf&#x27;, RandomForestClassifier(random_state=42))])</pre></div></div></div><div class=\"sk-serial\"><div class=\"sk-item\"><div class=\"sk-serial\"><div class=\"sk-item\"><div class=\"sk-estimator sk-toggleable\"><input class=\"sk-toggleable__control sk-hidden--visually\" id=\"sk-estimator-id-3\" type=\"checkbox\" ><label for=\"sk-estimator-id-3\" class=\"sk-toggleable__label sk-toggleable__label-arrow\">StandardScaler</label><div class=\"sk-toggleable__content\"><pre>StandardScaler()</pre></div></div></div><div class=\"sk-item\"><div class=\"sk-estimator sk-toggleable\"><input class=\"sk-toggleable__control sk-hidden--visually\" id=\"sk-estimator-id-4\" type=\"checkbox\" ><label for=\"sk-estimator-id-4\" class=\"sk-toggleable__label sk-toggleable__label-arrow\">RandomForestClassifier</label><div class=\"sk-toggleable__content\"><pre>RandomForestClassifier(random_state=42)</pre></div></div></div></div></div></div></div></div></div></div></div></div>"
      ],
      "text/plain": [
       "GridSearchCV(cv=10,\n",
       "             estimator=Pipeline(steps=[('scaler', StandardScaler()),\n",
       "                                       ('clf',\n",
       "                                        RandomForestClassifier(random_state=42))]),\n",
       "             n_jobs=-1,\n",
       "             param_grid={'clf__max_depth': [None, 10, 20],\n",
       "                         'clf__max_features': ['sqrt', 'log2'],\n",
       "                         'clf__n_estimators': [100, 200]},\n",
       "             scoring='accuracy')"
      ]
     },
     "execution_count": 11,
     "metadata": {},
     "output_type": "execute_result"
    }
   ],
   "source": [
    "# 7. GridSearch mit 10-facher Kreuzvalidierung\n",
    "grid_search = GridSearchCV(pipeline, param_grid, cv=10, scoring=\"accuracy\", n_jobs=-1)\n",
    "grid_search.fit(X_train, y_train)"
   ]
  },
  {
   "cell_type": "code",
   "execution_count": 12,
   "id": "05754925",
   "metadata": {},
   "outputs": [
    {
     "name": "stdout",
     "output_type": "stream",
     "text": [
      "Beste Parameter: {'clf__max_depth': None, 'clf__max_features': 'sqrt', 'clf__n_estimators': 100}\n",
      "Beste Trainingsgenauigkeit (CV): 0.9710084033613446\n"
     ]
    }
   ],
   "source": [
    "# 8. Beste Parameter und Genauigkeit\n",
    "print(\"Beste Parameter:\", grid_search.best_params_)\n",
    "print(\"Beste Trainingsgenauigkeit (CV):\", grid_search.best_score_)"
   ]
  },
  {
   "cell_type": "code",
   "execution_count": 13,
   "id": "ec8f8726",
   "metadata": {},
   "outputs": [],
   "source": [
    "# 9. Vorhersage auf Testdaten\n",
    "y_pred = grid_search.predict(X_test)"
   ]
  },
  {
   "cell_type": "code",
   "execution_count": 14,
   "id": "7bbf2477",
   "metadata": {},
   "outputs": [
    {
     "name": "stdout",
     "output_type": "stream",
     "text": [
      "Test Accuracy: 0.9827586206896551\n",
      "\n",
      "Confusion Matrix:\n",
      " [[22  1]\n",
      " [ 1 92]]\n",
      "\n",
      "Classification Report:\n",
      "               precision    recall  f1-score   support\n",
      "\n",
      "      Active       0.96      0.96      0.96        23\n",
      "    Inactive       0.99      0.99      0.99        93\n",
      "\n",
      "    accuracy                           0.98       116\n",
      "   macro avg       0.97      0.97      0.97       116\n",
      "weighted avg       0.98      0.98      0.98       116\n",
      "\n"
     ]
    }
   ],
   "source": [
    "# 10. Bewertung\n",
    "print(\"Test Accuracy:\", accuracy_score(y_test, y_pred))\n",
    "print(\"\\nConfusion Matrix:\\n\", confusion_matrix(y_test, y_pred))\n",
    "print(\"\\nClassification Report:\\n\", classification_report(y_test, y_pred))"
   ]
  },
  {
   "cell_type": "code",
   "execution_count": null,
   "id": "0a1c568c",
   "metadata": {},
   "outputs": [
    {
     "name": "stdout",
     "output_type": "stream",
     "text": [
      "Top 10 wichtigste Merkmale:\n",
      " IC50                 0.303814\n",
      "moe2D_logS           0.025518\n",
      "moe2D_SMR_VSA2       0.015870\n",
      "QikProp_QPlogKhsa    0.012968\n",
      "moe2D_bpol           0.012697\n",
      "QikProp_QPlogS       0.012642\n",
      "QikProp_accptHB      0.011703\n",
      "QikProp_QPlogPo.w    0.010462\n",
      "moe2D_GCUT_SMR_1     0.010280\n",
      "QikProp_QPPMDCK      0.009088\n",
      "dtype: float64\n"
     ]
    }
   ],
   "source": [
    "# 11. Feature Importances\n",
    "best_model = grid_search.best_estimator_.named_steps[\"clf\"]\n",
    "importances = pd.Series(best_model.feature_importances_, index=X.columns)\n",
    "print(\"Top 10 wichtigste Merkmale:\\n\", importances.sort_values(ascending=False).head(10))"
   ]
  }
 ],
 "metadata": {
  "kernelspec": {
   "display_name": "venv",
   "language": "python",
   "name": "python3"
  },
  "language_info": {
   "codemirror_mode": {
    "name": "ipython",
    "version": 3
   },
   "file_extension": ".py",
   "mimetype": "text/x-python",
   "name": "python",
   "nbconvert_exporter": "python",
   "pygments_lexer": "ipython3",
   "version": "3.8.6"
  }
 },
 "nbformat": 4,
 "nbformat_minor": 5
}
